{
 "cells": [
  {
   "cell_type": "code",
   "execution_count": 1,
   "metadata": {},
   "outputs": [],
   "source": [
    "import pandas as pd\n",
    "import numpy as np\n",
    "df_train = pd.read_csv(\"train_HK6lq50.csv\")\n",
    "df_test = pd.read_csv(\"test_2nAIblo.csv\")"
   ]
  },
  {
   "cell_type": "code",
   "execution_count": 2,
   "metadata": {},
   "outputs": [],
   "source": [
    "df_test[\"is_pass\"] = 0\n",
    "df = pd.concat([df_train,df_test], ignore_index = True)"
   ]
  },
  {
   "cell_type": "code",
   "execution_count": 3,
   "metadata": {},
   "outputs": [],
   "source": [
    "df[\"age\"].fillna(df[\"age\"].median(), inplace=True)\n",
    "df[\"trainee_engagement_rating\"].fillna(df[\"trainee_engagement_rating\"].mode(), inplace = True)"
   ]
  },
  {
   "cell_type": "code",
   "execution_count": 30,
   "metadata": {},
   "outputs": [
    {
     "name": "stderr",
     "output_type": "stream",
     "text": [
      "c:\\users\\nitesh gowda\\appdata\\local\\programs\\python\\python36\\lib\\site-packages\\ipykernel_launcher.py:3: FutureWarning: specifying 'categories' or 'ordered' in .astype() is deprecated; pass a CategoricalDtype instead\n",
      "  This is separate from the ipykernel package so we can avoid doing imports until\n",
      "c:\\users\\nitesh gowda\\appdata\\local\\programs\\python\\python36\\lib\\site-packages\\ipykernel_launcher.py:5: FutureWarning: specifying 'categories' or 'ordered' in .astype() is deprecated; pass a CategoricalDtype instead\n",
      "  \"\"\"\n"
     ]
    }
   ],
   "source": [
    "df_new = pd.get_dummies(df, columns = ['test_type','is_handicapped','gender'] )\n",
    "ordered_education = ['No Qualification','Matriculation','High School Diploma','Bachelors','Masters']\n",
    "df_new['education'] = df_new['education'].astype(\"category\",ordered=True,categories=ordered_education).cat.codes\n",
    "ordered_diff = ['easy','intermediate','hard','vary hard']\n",
    "df_new['difficulty_level'] = df_new['difficulty_level'].astype(\"category\",ordered=True,categories=ordered_diff).cat.codes\n",
    "df_new = pd.get_dummies(df_new, columns = ['program_type'])\n",
    "df_new['duration_per_program'] = df_new['program_duration']/df_new['total_programs_enrolled']\n",
    "df_new['education'] = df_new['education']+1\n",
    "df_new['age_by_edu'] = df_new['age']/df_new['education']\n",
    "df_new['ter_by_diff'] = (df_new['trainee_engagement_rating']*10)/(df_new['difficulty_level']+1) #new\n",
    "df_new['log_duration'] = np.log(df_new['program_duration'])\n",
    "df_new['log_age'] = np.log(df_new['age'])\n",
    "df_new['log_dpp'] = np.log(df_new['duration_per_program'])\n",
    "df_new.drop(columns = ['id','program_id','trainee_id','test_id'] , inplace = True)"
   ]
  },
  {
   "cell_type": "code",
   "execution_count": 31,
   "metadata": {},
   "outputs": [
    {
     "data": {
      "text/html": [
       "<div>\n",
       "<style scoped>\n",
       "    .dataframe tbody tr th:only-of-type {\n",
       "        vertical-align: middle;\n",
       "    }\n",
       "\n",
       "    .dataframe tbody tr th {\n",
       "        vertical-align: top;\n",
       "    }\n",
       "\n",
       "    .dataframe thead th {\n",
       "        text-align: right;\n",
       "    }\n",
       "</style>\n",
       "<table border=\"1\" class=\"dataframe\">\n",
       "  <thead>\n",
       "    <tr style=\"text-align: right;\">\n",
       "      <th></th>\n",
       "      <th>program_duration</th>\n",
       "      <th>difficulty_level</th>\n",
       "      <th>education</th>\n",
       "      <th>city_tier</th>\n",
       "      <th>age</th>\n",
       "      <th>total_programs_enrolled</th>\n",
       "      <th>trainee_engagement_rating</th>\n",
       "      <th>is_pass</th>\n",
       "      <th>test_type_offline</th>\n",
       "      <th>test_type_online</th>\n",
       "      <th>...</th>\n",
       "      <th>program_type_V</th>\n",
       "      <th>program_type_X</th>\n",
       "      <th>program_type_Y</th>\n",
       "      <th>program_type_Z</th>\n",
       "      <th>duration_per_program</th>\n",
       "      <th>age_by_edu</th>\n",
       "      <th>ter_by_diff</th>\n",
       "      <th>log_duration</th>\n",
       "      <th>log_age</th>\n",
       "      <th>log_dpp</th>\n",
       "    </tr>\n",
       "  </thead>\n",
       "  <tbody>\n",
       "    <tr>\n",
       "      <th>count</th>\n",
       "      <td>104496.000000</td>\n",
       "      <td>104496.000000</td>\n",
       "      <td>104496.000000</td>\n",
       "      <td>104496.000000</td>\n",
       "      <td>104496.000000</td>\n",
       "      <td>104496.000000</td>\n",
       "      <td>104388.000000</td>\n",
       "      <td>104496.000000</td>\n",
       "      <td>104496.000000</td>\n",
       "      <td>104496.000000</td>\n",
       "      <td>...</td>\n",
       "      <td>104496.000000</td>\n",
       "      <td>104496.000000</td>\n",
       "      <td>104496.000000</td>\n",
       "      <td>104496.000000</td>\n",
       "      <td>104496.000000</td>\n",
       "      <td>104496.000000</td>\n",
       "      <td>104388.000000</td>\n",
       "      <td>104496.000000</td>\n",
       "      <td>104496.000000</td>\n",
       "      <td>104496.000000</td>\n",
       "    </tr>\n",
       "    <tr>\n",
       "      <th>mean</th>\n",
       "      <td>128.209386</td>\n",
       "      <td>0.650781</td>\n",
       "      <td>2.800873</td>\n",
       "      <td>2.248478</td>\n",
       "      <td>37.431835</td>\n",
       "      <td>2.586223</td>\n",
       "      <td>2.397776</td>\n",
       "      <td>0.486784</td>\n",
       "      <td>0.595774</td>\n",
       "      <td>0.404226</td>\n",
       "      <td>...</td>\n",
       "      <td>0.177940</td>\n",
       "      <td>0.045246</td>\n",
       "      <td>0.309141</td>\n",
       "      <td>0.089353</td>\n",
       "      <td>60.223441</td>\n",
       "      <td>14.317621</td>\n",
       "      <td>17.533553</td>\n",
       "      <td>4.852202</td>\n",
       "      <td>3.601880</td>\n",
       "      <td>4.001029</td>\n",
       "    </tr>\n",
       "    <tr>\n",
       "      <th>std</th>\n",
       "      <td>6.892792</td>\n",
       "      <td>0.825037</td>\n",
       "      <td>0.731030</td>\n",
       "      <td>1.011789</td>\n",
       "      <td>7.236719</td>\n",
       "      <td>1.238415</td>\n",
       "      <td>1.327130</td>\n",
       "      <td>0.499828</td>\n",
       "      <td>0.490744</td>\n",
       "      <td>0.490744</td>\n",
       "      <td>...</td>\n",
       "      <td>0.382464</td>\n",
       "      <td>0.207844</td>\n",
       "      <td>0.462142</td>\n",
       "      <td>0.285254</td>\n",
       "      <td>27.476597</td>\n",
       "      <td>4.878381</td>\n",
       "      <td>12.487441</td>\n",
       "      <td>0.054250</td>\n",
       "      <td>0.208815</td>\n",
       "      <td>0.444093</td>\n",
       "    </tr>\n",
       "    <tr>\n",
       "      <th>min</th>\n",
       "      <td>117.000000</td>\n",
       "      <td>0.000000</td>\n",
       "      <td>1.000000</td>\n",
       "      <td>1.000000</td>\n",
       "      <td>17.000000</td>\n",
       "      <td>1.000000</td>\n",
       "      <td>1.000000</td>\n",
       "      <td>0.000000</td>\n",
       "      <td>0.000000</td>\n",
       "      <td>0.000000</td>\n",
       "      <td>...</td>\n",
       "      <td>0.000000</td>\n",
       "      <td>0.000000</td>\n",
       "      <td>0.000000</td>\n",
       "      <td>0.000000</td>\n",
       "      <td>8.714286</td>\n",
       "      <td>4.250000</td>\n",
       "      <td>2.500000</td>\n",
       "      <td>4.762174</td>\n",
       "      <td>2.833213</td>\n",
       "      <td>2.164964</td>\n",
       "    </tr>\n",
       "    <tr>\n",
       "      <th>25%</th>\n",
       "      <td>121.000000</td>\n",
       "      <td>0.000000</td>\n",
       "      <td>2.000000</td>\n",
       "      <td>1.000000</td>\n",
       "      <td>30.000000</td>\n",
       "      <td>2.000000</td>\n",
       "      <td>1.000000</td>\n",
       "      <td>0.000000</td>\n",
       "      <td>0.000000</td>\n",
       "      <td>0.000000</td>\n",
       "      <td>...</td>\n",
       "      <td>0.000000</td>\n",
       "      <td>0.000000</td>\n",
       "      <td>0.000000</td>\n",
       "      <td>0.000000</td>\n",
       "      <td>40.000000</td>\n",
       "      <td>10.666667</td>\n",
       "      <td>10.000000</td>\n",
       "      <td>4.795791</td>\n",
       "      <td>3.401197</td>\n",
       "      <td>3.688879</td>\n",
       "    </tr>\n",
       "    <tr>\n",
       "      <th>50%</th>\n",
       "      <td>131.000000</td>\n",
       "      <td>0.000000</td>\n",
       "      <td>3.000000</td>\n",
       "      <td>2.000000</td>\n",
       "      <td>39.000000</td>\n",
       "      <td>2.000000</td>\n",
       "      <td>2.000000</td>\n",
       "      <td>0.000000</td>\n",
       "      <td>1.000000</td>\n",
       "      <td>0.000000</td>\n",
       "      <td>...</td>\n",
       "      <td>0.000000</td>\n",
       "      <td>0.000000</td>\n",
       "      <td>0.000000</td>\n",
       "      <td>0.000000</td>\n",
       "      <td>60.500000</td>\n",
       "      <td>13.000000</td>\n",
       "      <td>10.000000</td>\n",
       "      <td>4.875197</td>\n",
       "      <td>3.663562</td>\n",
       "      <td>4.102643</td>\n",
       "    </tr>\n",
       "    <tr>\n",
       "      <th>75%</th>\n",
       "      <td>134.000000</td>\n",
       "      <td>1.000000</td>\n",
       "      <td>3.000000</td>\n",
       "      <td>3.000000</td>\n",
       "      <td>43.000000</td>\n",
       "      <td>3.000000</td>\n",
       "      <td>4.000000</td>\n",
       "      <td>1.000000</td>\n",
       "      <td>1.000000</td>\n",
       "      <td>1.000000</td>\n",
       "      <td>...</td>\n",
       "      <td>0.000000</td>\n",
       "      <td>0.000000</td>\n",
       "      <td>1.000000</td>\n",
       "      <td>0.000000</td>\n",
       "      <td>67.000000</td>\n",
       "      <td>19.500000</td>\n",
       "      <td>20.000000</td>\n",
       "      <td>4.897840</td>\n",
       "      <td>3.761200</td>\n",
       "      <td>4.204693</td>\n",
       "    </tr>\n",
       "    <tr>\n",
       "      <th>max</th>\n",
       "      <td>136.000000</td>\n",
       "      <td>3.000000</td>\n",
       "      <td>5.000000</td>\n",
       "      <td>4.000000</td>\n",
       "      <td>63.000000</td>\n",
       "      <td>14.000000</td>\n",
       "      <td>5.000000</td>\n",
       "      <td>1.000000</td>\n",
       "      <td>1.000000</td>\n",
       "      <td>1.000000</td>\n",
       "      <td>...</td>\n",
       "      <td>1.000000</td>\n",
       "      <td>1.000000</td>\n",
       "      <td>1.000000</td>\n",
       "      <td>1.000000</td>\n",
       "      <td>136.000000</td>\n",
       "      <td>50.000000</td>\n",
       "      <td>50.000000</td>\n",
       "      <td>4.912655</td>\n",
       "      <td>4.143135</td>\n",
       "      <td>4.912655</td>\n",
       "    </tr>\n",
       "  </tbody>\n",
       "</table>\n",
       "<p>8 rows × 27 columns</p>\n",
       "</div>"
      ],
      "text/plain": [
       "       program_duration  difficulty_level      education      city_tier  \\\n",
       "count     104496.000000     104496.000000  104496.000000  104496.000000   \n",
       "mean         128.209386          0.650781       2.800873       2.248478   \n",
       "std            6.892792          0.825037       0.731030       1.011789   \n",
       "min          117.000000          0.000000       1.000000       1.000000   \n",
       "25%          121.000000          0.000000       2.000000       1.000000   \n",
       "50%          131.000000          0.000000       3.000000       2.000000   \n",
       "75%          134.000000          1.000000       3.000000       3.000000   \n",
       "max          136.000000          3.000000       5.000000       4.000000   \n",
       "\n",
       "                 age  total_programs_enrolled  trainee_engagement_rating  \\\n",
       "count  104496.000000            104496.000000              104388.000000   \n",
       "mean       37.431835                 2.586223                   2.397776   \n",
       "std         7.236719                 1.238415                   1.327130   \n",
       "min        17.000000                 1.000000                   1.000000   \n",
       "25%        30.000000                 2.000000                   1.000000   \n",
       "50%        39.000000                 2.000000                   2.000000   \n",
       "75%        43.000000                 3.000000                   4.000000   \n",
       "max        63.000000                14.000000                   5.000000   \n",
       "\n",
       "             is_pass  test_type_offline  test_type_online      ...        \\\n",
       "count  104496.000000      104496.000000     104496.000000      ...         \n",
       "mean        0.486784           0.595774          0.404226      ...         \n",
       "std         0.499828           0.490744          0.490744      ...         \n",
       "min         0.000000           0.000000          0.000000      ...         \n",
       "25%         0.000000           0.000000          0.000000      ...         \n",
       "50%         0.000000           1.000000          0.000000      ...         \n",
       "75%         1.000000           1.000000          1.000000      ...         \n",
       "max         1.000000           1.000000          1.000000      ...         \n",
       "\n",
       "       program_type_V  program_type_X  program_type_Y  program_type_Z  \\\n",
       "count   104496.000000   104496.000000   104496.000000   104496.000000   \n",
       "mean         0.177940        0.045246        0.309141        0.089353   \n",
       "std          0.382464        0.207844        0.462142        0.285254   \n",
       "min          0.000000        0.000000        0.000000        0.000000   \n",
       "25%          0.000000        0.000000        0.000000        0.000000   \n",
       "50%          0.000000        0.000000        0.000000        0.000000   \n",
       "75%          0.000000        0.000000        1.000000        0.000000   \n",
       "max          1.000000        1.000000        1.000000        1.000000   \n",
       "\n",
       "       duration_per_program     age_by_edu    ter_by_diff   log_duration  \\\n",
       "count         104496.000000  104496.000000  104388.000000  104496.000000   \n",
       "mean              60.223441      14.317621      17.533553       4.852202   \n",
       "std               27.476597       4.878381      12.487441       0.054250   \n",
       "min                8.714286       4.250000       2.500000       4.762174   \n",
       "25%               40.000000      10.666667      10.000000       4.795791   \n",
       "50%               60.500000      13.000000      10.000000       4.875197   \n",
       "75%               67.000000      19.500000      20.000000       4.897840   \n",
       "max              136.000000      50.000000      50.000000       4.912655   \n",
       "\n",
       "             log_age        log_dpp  \n",
       "count  104496.000000  104496.000000  \n",
       "mean        3.601880       4.001029  \n",
       "std         0.208815       0.444093  \n",
       "min         2.833213       2.164964  \n",
       "25%         3.401197       3.688879  \n",
       "50%         3.663562       4.102643  \n",
       "75%         3.761200       4.204693  \n",
       "max         4.143135       4.912655  \n",
       "\n",
       "[8 rows x 27 columns]"
      ]
     },
     "execution_count": 31,
     "metadata": {},
     "output_type": "execute_result"
    }
   ],
   "source": [
    "df_new.describe()"
   ]
  },
  {
   "cell_type": "code",
   "execution_count": 32,
   "metadata": {},
   "outputs": [],
   "source": [
    "df1 = df_new[:73147]\n",
    "df2 = df_new[73147:]"
   ]
  },
  {
   "cell_type": "code",
   "execution_count": 33,
   "metadata": {},
   "outputs": [],
   "source": [
    "#X_train =df1.drop('is_pass', axis =1).values\n",
    "#Y_train = df1['is_pass'].values\n",
    "X_test = df2.drop(['is_pass'] ,axis =1)\n",
    "#for features importance\n",
    "X_train = df1.drop(['is_pass'] , axis =1)\n",
    "Y_train = df1['is_pass']"
   ]
  },
  {
   "cell_type": "code",
   "execution_count": 34,
   "metadata": {},
   "outputs": [
    {
     "data": {
      "image/png": "[encoded data removed]",
      "text/plain": [
       "<Figure size 432x288 with 1 Axes>"
      ]
     },
     "metadata": {},
     "output_type": "display_data"
    }
   ],
   "source": [
    "from sklearn.metrics import roc_auc_score\n",
    "from matplotlib import pyplot\n",
    "from xgboost import plot_importance\n",
    "from sklearn.model_selection import GridSearchCV\n",
    "from sklearn.model_selection import StratifiedKFold\n",
    "from xgboost import XGBRegressor\n",
    "seed = 7\n",
    "test_size = 0.33\n",
    "model = XGBRegressor()\n",
    "#X_train1, X_test1, y_train1, y_test1 = train_test_split(X_train, Y_train, test_size=test_size, random_state=seed)\n",
    "#eval_set = [(X_test1,y_test1)]\n",
    "#model.fit(X_train1, y_train1, early_stopping_rounds=20, eval_metric=\"auc\", eval_set=eval_set, verbose=True)\n",
    "\n",
    "#y_pred = model.predict(X_test1)\n",
    "model.fit(X_train,Y_train)\n",
    "#accuracy = roc_auc_score(y_test1, y_pred)\n",
    "#print(\"Accuracy: %.2f%%\" % (accuracy * 100.0))\n",
    "plot_importance(model)\n",
    "pyplot.show()"
   ]
  },
  {
   "cell_type": "code",
   "execution_count": 35,
   "metadata": {},
   "outputs": [
    {
     "data": {
      "text/plain": [
       "Index(['program_duration', 'difficulty_level', 'education', 'city_tier', 'age',\n",
       "       'total_programs_enrolled', 'trainee_engagement_rating', 'is_pass',\n",
       "       'test_type_offline', 'test_type_online', 'is_handicapped_N',\n",
       "       'is_handicapped_Y', 'gender_F', 'gender_M', 'program_type_S',\n",
       "       'program_type_T', 'program_type_U', 'program_type_V', 'program_type_X',\n",
       "       'program_type_Y', 'program_type_Z', 'duration_per_program',\n",
       "       'age_by_edu', 'ter_by_diff', 'log_duration', 'log_age', 'log_dpp'],\n",
       "      dtype='object')"
      ]
     },
     "execution_count": 35,
     "metadata": {},
     "output_type": "execute_result"
    }
   ],
   "source": [
    "df_new.columns"
   ]
  },
  {
   "cell_type": "code",
   "execution_count": 23,
   "metadata": {},
   "outputs": [],
   "source": [
    "df_new.drop(columns = ['log_age','log_duration','log_dpp'] , inplace = True)"
   ]
  },
  {
   "cell_type": "code",
   "execution_count": 36,
   "metadata": {},
   "outputs": [],
   "source": [
    "df1 = df_new[:73147]\n",
    "df2 = df_new[73147:]\n",
    "X_train =df1.drop('is_pass', axis =1).values\n",
    "Y_train = df1['is_pass'].values\n",
    "X_test = df2.drop('is_pass', axis =1)\n",
    "#for features importance\n",
    "#X_train = df1.drop('is_pass', axis =1)\n",
    "#Y_train = df1['is_pass']"
   ]
  },
  {
   "cell_type": "code",
   "execution_count": 37,
   "metadata": {},
   "outputs": [],
   "source": [
    "import xgboost as xgb\n",
    "from xgboost.sklearn import XGBRegressor\n",
    "from sklearn.model_selection import GridSearchCV"
   ]
  },
  {
   "cell_type": "code",
   "execution_count": 40,
   "metadata": {},
   "outputs": [
    {
     "name": "stdout",
     "output_type": "stream",
     "text": [
      "Fitting 2 folds for each of 9 candidates, totalling 18 fits\n"
     ]
    },
    {
     "name": "stderr",
     "output_type": "stream",
     "text": [
      "[Parallel(n_jobs=5)]: Done  18 out of  18 | elapsed: 20.7min finished\n"
     ]
    },
    {
     "name": "stdout",
     "output_type": "stream",
     "text": [
      "0.14991420475013525\n",
      "{'colsample_bytree': 0.7, 'learning_rate': 0.01, 'max_depth': 10, 'min_child_weight': 1, 'n_estimators': 1000, 'nthread': 4, 'objective': 'binary:logistic', 'silent': 0, 'subsample': 0.7}\n"
     ]
    }
   ],
   "source": [
    "xgb1 = XGBRegressor()\n",
    "parameters = {'nthread':[4], #when use hyperthread, xgboost may become slower\n",
    "              'objective':['binary:logistic'],\n",
    "              'learning_rate': [0.01], #so called `eta` value\n",
    "              'max_depth': [8,10,12],\n",
    "              'min_child_weight': [1,2,3],\n",
    "              'silent': [0],\n",
    "              'subsample': [0.7],\n",
    "              'colsample_bytree': [0.7],\n",
    "              'n_estimators': [1000]}\n",
    "\n",
    "xgb_grid = GridSearchCV(xgb1,parameters,cv = 2,n_jobs = 5,verbose=True)\n",
    "\n",
    "xgb_grid.fit(X_train,Y_train)\n",
    "\n",
    "print(xgb_grid.best_score_)\n",
    "print(xgb_grid.best_params_)"
   ]
  },
  {
   "cell_type": "raw",
   "metadata": {},
   "source": [
    "0.14291756639896455\n",
    "{'colsample_bytree': 0.7, 'learning_rate': 0.01, 'max_depth': 13, 'min_child_weight': 2, 'n_estimators': 1000, 'nthread': 4, 'objective': 'binary:logistic', 'silent': 0, 'subsample': 0.7}"
   ]
  },
  {
   "cell_type": "raw",
   "metadata": {},
   "source": [
    "without id\n",
    "0.1332910805196967\n",
    "{'colsample_bytree': 0.7, 'learning_rate': 0.01, 'max_depth': 14, 'min_child_weight': 1, 'n_estimators': 1000, 'nthread': 4, 'objective': 'binary:logistic', 'silent': 0, 'subsample': 0.7}"
   ]
  },
  {
   "cell_type": "raw",
   "metadata": {},
   "source": [
    "0.20317956059960698\n",
    "{'colsample_bytree': 0.7, 'learning_rate': 0.01, 'max_depth': 15, 'min_child_weight': 2, 'n_estimators': 1000, 'nthread': 4, 'objective': 'binary:logistic', 'silent': 0, 'subsample': 0.7}"
   ]
  },
  {
   "cell_type": "raw",
   "metadata": {},
   "source": [
    "0.20749344082500137\n",
    "{'colsample_bytree': 0.7, 'learning_rate': 0.01, 'max_depth': 15, 'min_child_weight': 2, 'n_estimators': 1200, 'nthread': 4, 'objective': 'binary:logistic', 'silent': 0, 'subsample': 0.7}"
   ]
  },
  {
   "cell_type": "raw",
   "metadata": {},
   "source": [
    "Including log\n",
    "0.20641800182022668\n",
    "{'colsample_bytree': 0.7, 'learning_rate': 0.02, 'max_depth': 13, 'min_child_weight': 3, 'n_estimators': 800, 'nthread': 4, 'objective': 'binary:logistic', 'silent': 0, 'subsample': 0.7}"
   ]
  },
  {
   "cell_type": "raw",
   "metadata": {},
   "source": [
    "0.20715054995428814\n",
    "{'colsample_bytree': 0.6, 'learning_rate': 0.02, 'max_depth': 12, 'min_child_weight': 3, 'n_estimators': 1000, 'nthread': 4, 'objective': 'binary:logistic', 'silent': 0, 'subsample': 0.8}"
   ]
  },
  {
   "cell_type": "raw",
   "metadata": {},
   "source": [
    "0.20680416890260472\n",
    "{'colsample_bytree': 0.7, 'learning_rate': 0.02, 'max_depth': 12, 'min_child_weight': 3, 'n_estimators': 1000, 'nthread': 4, 'objective': 'binary:logistic', 'silent': 0, 'subsample': 0.7}"
   ]
  },
  {
   "cell_type": "raw",
   "metadata": {},
   "source": [
    "0.20549804235588126\n",
    "{'colsample_bytree': 0.7, 'learning_rate': 0.02, 'max_depth': 12, 'min_child_weight': 4, 'n_estimators': 1000, 'nthread': 4, 'objective': 'binary:logistic', 'silent': 0, 'subsample': 0.7}"
   ]
  },
  {
   "cell_type": "raw",
   "metadata": {},
   "source": [
    "0.17898216666275432\n",
    "{'colsample_bytree': 0.7, 'learning_rate': 0.02, 'max_depth': 12, 'min_child_weight': 4, 'n_estimators': 1000, 'nthread': 4, 'objective': 'binary:logistic', 'silent': 0, 'subsample': 0.7}"
   ]
  },
  {
   "cell_type": "raw",
   "metadata": {},
   "source": [
    "0.17698844987998708\n",
    "{'colsample_bytree': 0.7, 'learning_rate': 0.02, 'max_depth': 12, 'min_child_weight': 6, 'n_estimators': 1000, 'nthread': 4, 'objective': 'binary:logistic', 'silent': 0, 'subsample': 0.7}"
   ]
  },
  {
   "cell_type": "code",
   "execution_count": 41,
   "metadata": {},
   "outputs": [],
   "source": [
    "y_pred = xgb_grid.predict(X_test.as_matrix())\n",
    "df3 = pd.read_csv('sample_submission_vaSxamm.csv')\n",
    "df3['is_pass'] = y_pred\n",
    "df3.to_csv('Submission.csv')"
   ]
  }
 ],
 "metadata": {
  "kernelspec": {
   "display_name": "Python 3",
   "language": "python",
   "name": "python3"
  },
  "language_info": {
   "codemirror_mode": {
    "name": "ipython",
    "version": 3
   },
   "file_extension": ".py",
   "mimetype": "text/x-python",
   "name": "python",
   "nbconvert_exporter": "python",
   "pygments_lexer": "ipython3",
   "version": "3.6.4"
  }
 },
 "nbformat": 4,
 "nbformat_minor": 2
}
